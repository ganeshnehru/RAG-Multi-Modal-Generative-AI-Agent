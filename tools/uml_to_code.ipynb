{
 "cells": [
  {
   "cell_type": "markdown",
   "metadata": {},
   "source": [
    "# UML to Code Tool"
   ]
  },
  {
   "cell_type": "code",
   "execution_count": 1,
   "metadata": {},
   "source": [
    "from models.granite import Granite\n",
    "from models.temp.phi_vision_old import PhiVision"
   ],
   "outputs": []
  },
  {
   "cell_type": "code",
   "execution_count": 2,
   "metadata": {},
   "source": [
    "phi_vision = PhiVision()\n",
    "granite = Granite()"
   ],
   "outputs": []
  },
  {
   "cell_type": "markdown",
   "metadata": {},
   "source": [
    "### user input --> phi_vision --> granite --> code output"
   ]
  },
  {
   "cell_type": "code",
   "execution_count": 4,
   "metadata": {},
   "source": [
    "phi_message = \"\"\"\n",
    "    As a software engineer, your task is to analyze the provided UML diagram and write a comprehensive explanation of the classes and their relationships. Your explanation should cover the following aspects for each class:\n",
    "\n",
    "    **Class Name**:\n",
    "    - Provide the name of the class.\n",
    "\n",
    "    **Attributes**:\n",
    "    - List all attributes of the class, specifying whether each attribute is public or private.\n",
    "\n",
    "    **Methods**:\n",
    "    - Enumerate all methods of the class, indicating whether each method is public or private.\n",
    "\n",
    "    **Relationships**:\n",
    "    - Describe the relationships between classes, including associations, dependencies, inheritances, and aggregations.\n",
    "\n",
    "    Your explanation should be detailed and structured, ensuring clarity and coherence. Use the provided template below to organize your analysis:\n",
    "\n",
    "    **Class Name**:\n",
    "    - [Class name goes here]\n",
    "\n",
    "    **Attributes**:\n",
    "    - [Attribute 1]: [Public/Private]\n",
    "    - [Attribute 2]: [Public/Private]\n",
    "    - ...\n",
    "\n",
    "    **Methods**:\n",
    "    - [Method 1]: [Public/Private]\n",
    "    - [Method 2]: [Public/Private]\n",
    "    - ...\n",
    "\n",
    "    **Relationships**:\n",
    "    - [Relationship 1]\n",
    "    - [Relationship 2]\n",
    "    - ...\n",
    "\n",
    "    Your analysis will aid in understanding the structure and design of the software system represented by the UML diagram. Ensure clarity and completeness in your explanation.\n",
    "    \"\"\""
   ],
   "outputs": []
  },
  {
   "cell_type": "code",
   "execution_count": 6,
   "metadata": {},
   "source": [
    "img_path = '/Users/ganesh/Downloads/imgs/class-diagram-example.png'\n",
    "uml_description = phi_vision.get_response(img_path, phi_message)"
   ],
   "outputs": []
  },
  {
   "cell_type": "code",
   "execution_count": 8,
   "metadata": {},
   "source": [
    "print(uml_description.content)"
   ],
   "outputs": []
  },
  {
   "cell_type": "code",
   "execution_count": 9,
   "metadata": {},
   "source": [
    "programming_language = 'Java'\n",
    "granite_message = f'''You are an experienced software engineer. Given the following description of a UML diagram, you are required to write {programming_language} code that corresponds to the description: {uml_description}'''"
   ],
   "outputs": []
  },
  {
   "cell_type": "code",
   "execution_count": 10,
   "metadata": {},
   "source": [
    "granite_response = granite.get_response(granite_message)"
   ],
   "outputs": []
  },
  {
   "cell_type": "code",
   "execution_count": 11,
   "metadata": {},
   "source": [
    "print(granite_response.content)"
   ],
   "outputs": []
  },
  {
   "cell_type": "code",
   "execution_count": 9,
   "metadata": {},
   "source": [
    "import sys\n",
    "import os\n",
    "\n",
    "# Set the current directory manually if __file__ is not defined\n",
    "current_dir = os.getcwd()  # os.getcwd() returns the current working directory\n",
    "\n",
    "# Add the parent directory to the sys.path\n",
    "sys.path.append(os.path.join(current_dir, '..'))\n",
    "\n"
   ],
   "outputs": []
  },
  {
   "cell_type": "code",
   "execution_count": 10,
   "metadata": {},
   "source": "",
   "outputs": []
  },
  {
   "cell_type": "code",
   "execution_count": null,
   "metadata": {},
   "source": [],
   "outputs": []
  }
 ],
 "metadata": {
  "kernelspec": {
   "display_name": "vision",
   "language": "python",
   "name": "python3"
  },
  "language_info": {
   "codemirror_mode": {
    "name": "ipython",
    "version": 3
   },
   "file_extension": ".py",
   "mimetype": "text/x-python",
   "name": "python",
   "nbconvert_exporter": "python",
   "pygments_lexer": "ipython3",
   "version": "3.10.0"
  }
 },
 "nbformat": 4,
 "nbformat_minor": 2
}
